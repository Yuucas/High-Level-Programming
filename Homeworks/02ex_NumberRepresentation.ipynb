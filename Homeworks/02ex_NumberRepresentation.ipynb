{
 "cells": [
  {
   "cell_type": "markdown",
   "metadata": {},
   "source": [
    "1\\. Write a function that converts number representation (bin<->dec<->hex)"
   ]
  },
  {
   "cell_type": "code",
   "execution_count": 16,
   "metadata": {},
   "outputs": [
    {
     "name": "stdout",
     "output_type": "stream",
     "text": [
      "ANone\n",
      "34\n",
      "100010None\n",
      "15\n",
      "None\n"
     ]
    }
   ],
   "source": [
    "def dectohex(n): \n",
    "\n",
    "    hexaDeciNum = ['0'] * 100; \n",
    "\n",
    "    i = 0; \n",
    "    while(n != 0): \n",
    "        temp = 0; \n",
    "        temp = n % 16; \n",
    "        if(temp < 10): \n",
    "            hexaDeciNum[i] = chr(temp + 48); \n",
    "            i = i + 1; \n",
    "        else: \n",
    "            hexaDeciNum[i] = chr(temp + 55); \n",
    "            i = i + 1; \n",
    "        n = int(n / 16); \n",
    "    j = i - 1; \n",
    "    while(j >= 0): \n",
    "        print((hexaDeciNum[j]), end = \"\"); \n",
    "        j = j - 1; \n",
    "        \n",
    "\n",
    "def bintodec(n): \n",
    "    num = n; \n",
    "    dec_value = 0; \n",
    "    base = 1; \n",
    "    temp = num; \n",
    "    while(temp): \n",
    "        last_digit = temp % 10; \n",
    "        temp = int(temp / 10); \n",
    "        dec_value += last_digit * base; \n",
    "        base = base * 2; \n",
    "    return dec_value; \n",
    "\n",
    "def dectobin(n): \n",
    "    binaryNum = [0] * n; \n",
    "    i = 0; \n",
    "    while (n > 0):  \n",
    "        binaryNum[i] = n % 2; \n",
    "        n = int(n / 2); \n",
    "        i += 1; \n",
    "    for j in range(i - 1, -1, -1): \n",
    "        print(binaryNum[j], end = \"\"); \n",
    "        \n",
    "        \n",
    "def digits(digit):\n",
    "    digits = ['0', '1', '2', '3', '4', '5', '6', '7', '8', '9', 'A', 'B', 'C', 'D', 'E', 'F',]\n",
    "    for x in range(len(digits)):\n",
    "        if digit == digits[x]:\n",
    "            return x\n",
    "    \n",
    "    \n",
    "    \n",
    "def hextodec(n):\n",
    "    dec_num = 0\n",
    "    power = 0\n",
    "    for digit in range(len(n), 0, -1):\n",
    "        dec_num = dec_num + 16 ** power * digits(n[digit-1])\n",
    "        power += 1\n",
    "        print(str(dec_num))\n",
    "        \n",
    "\n",
    "        \n",
    "a = 10\n",
    "b = 100010\n",
    "c = 34\n",
    "d = 'F'\n",
    "print(dectohex(a))\n",
    "print(bintodec(b))\n",
    "print(dectobin(c))\n",
    "print(hextodec(d))"
   ]
  },
  {
   "cell_type": "markdown",
   "metadata": {},
   "source": [
    "2\\. Write a function that converts a 32 bit word into a single precision floating point (i.e. interprets the various bits as sign, mantissa and exponent)"
   ]
  },
  {
   "cell_type": "code",
   "execution_count": 22,
   "metadata": {},
   "outputs": [
    {
     "name": "stdout",
     "output_type": "stream",
     "text": [
      "Binary equivalent of 341231: 01001000101001101001110111100000\n"
     ]
    },
    {
     "ename": "error",
     "evalue": "unpack requires a buffer of 4 bytes",
     "output_type": "error",
     "traceback": [
      "\u001b[0;31m---------------------------------------------------------------------------\u001b[0m",
      "\u001b[0;31merror\u001b[0m                                     Traceback (most recent call last)",
      "\u001b[0;32m<ipython-input-22-054746dc5a56>\u001b[0m in \u001b[0;36m<module>\u001b[0;34m\u001b[0m\n\u001b[1;32m     12\u001b[0m \u001b[0mprint\u001b[0m\u001b[0;34m(\u001b[0m\u001b[0;34mf'Binary equivalent of {fl0}: {binstr}'\u001b[0m\u001b[0;34m)\u001b[0m\u001b[0;34m\u001b[0m\u001b[0;34m\u001b[0m\u001b[0m\n\u001b[1;32m     13\u001b[0m \u001b[0;34m\u001b[0m\u001b[0m\n\u001b[0;32m---> 14\u001b[0;31m \u001b[0mfl1\u001b[0m \u001b[0;34m=\u001b[0m \u001b[0mbinaryToFloat\u001b[0m\u001b[0;34m(\u001b[0m\u001b[0mbinstr\u001b[0m\u001b[0;34m)\u001b[0m\u001b[0;34m\u001b[0m\u001b[0;34m\u001b[0m\u001b[0m\n\u001b[0m\u001b[1;32m     15\u001b[0m \u001b[0mprint\u001b[0m\u001b[0;34m(\u001b[0m\u001b[0;34mf'Decimal equivalent of      {binstr}: {fl1}'\u001b[0m\u001b[0;34m)\u001b[0m\u001b[0;34m\u001b[0m\u001b[0;34m\u001b[0m\u001b[0m\n\u001b[1;32m     16\u001b[0m \u001b[0;34m\u001b[0m\u001b[0m\n",
      "\u001b[0;32m<ipython-input-22-054746dc5a56>\u001b[0m in \u001b[0;36mbinaryToFloat\u001b[0;34m(value)\u001b[0m\n\u001b[1;32m      6\u001b[0m \u001b[0;32mdef\u001b[0m \u001b[0mbinaryToFloat\u001b[0m\u001b[0;34m(\u001b[0m\u001b[0mvalue\u001b[0m\u001b[0;34m)\u001b[0m\u001b[0;34m:\u001b[0m\u001b[0;34m\u001b[0m\u001b[0;34m\u001b[0m\u001b[0m\n\u001b[1;32m      7\u001b[0m     \u001b[0mhx\u001b[0m \u001b[0;34m=\u001b[0m \u001b[0mhex\u001b[0m\u001b[0;34m(\u001b[0m\u001b[0mint\u001b[0m\u001b[0;34m(\u001b[0m\u001b[0mvalue\u001b[0m\u001b[0;34m,\u001b[0m \u001b[0;36m2\u001b[0m\u001b[0;34m)\u001b[0m\u001b[0;34m)\u001b[0m\u001b[0;34m\u001b[0m\u001b[0;34m\u001b[0m\u001b[0m\n\u001b[0;32m----> 8\u001b[0;31m     \u001b[0;32mreturn\u001b[0m \u001b[0mstruct\u001b[0m\u001b[0;34m.\u001b[0m\u001b[0munpack\u001b[0m\u001b[0;34m(\u001b[0m\u001b[0;34m\"f\"\u001b[0m\u001b[0;34m,\u001b[0m \u001b[0mstruct\u001b[0m\u001b[0;34m.\u001b[0m\u001b[0mpack\u001b[0m\u001b[0;34m(\u001b[0m\u001b[0;34m\"l\"\u001b[0m\u001b[0;34m,\u001b[0m \u001b[0mint\u001b[0m\u001b[0;34m(\u001b[0m\u001b[0mhx\u001b[0m\u001b[0;34m,\u001b[0m \u001b[0;36m16\u001b[0m\u001b[0;34m)\u001b[0m\u001b[0;34m)\u001b[0m\u001b[0;34m)\u001b[0m\u001b[0;34m[\u001b[0m\u001b[0;36m0\u001b[0m\u001b[0;34m]\u001b[0m\u001b[0;34m\u001b[0m\u001b[0;34m\u001b[0m\u001b[0m\n\u001b[0m\u001b[1;32m      9\u001b[0m \u001b[0;34m\u001b[0m\u001b[0m\n\u001b[1;32m     10\u001b[0m \u001b[0mfl0\u001b[0m \u001b[0;34m=\u001b[0m \u001b[0;36m341231\u001b[0m\u001b[0;34m\u001b[0m\u001b[0;34m\u001b[0m\u001b[0m\n",
      "\u001b[0;31merror\u001b[0m: unpack requires a buffer of 4 bytes"
     ]
    }
   ],
   "source": [
    "import struct\n",
    "\n",
    "def floatToBinary32(value):\n",
    "    return ''.join(f'{c:0>8b}' for c in struct.pack('!f', value))\n",
    "\n",
    "def binaryToFloat(value):\n",
    "    hx = hex(int(value, 2))   \n",
    "    return struct.unpack(\"f\", struct.pack(\"l\", int(hx, 16)))[0]\n",
    "\n",
    "fl0 = 341231\n",
    "binstr = floatToBinary32(fl0)\n",
    "print(f'Binary equivalent of {fl0}: {binstr}')\n",
    "\n",
    "fl1 = binaryToFloat(binstr)\n",
    "print(f'Decimal equivalent of      {binstr}: {fl1}')\n",
    "\n",
    "print(f'\\nSign     ( 1 bit ) = {binstr[0]}\\nExponent ( 8 bits) = {binstr[1:9]}\\nMantissa (23 bits) = {binstr[9:]}')\n",
    "\n",
    "assert fl0 == fl1"
   ]
  },
  {
   "cell_type": "markdown",
   "metadata": {},
   "source": [
    "3\\. Write a program to determine the underflow and overflow limits (within a factor of 2) for python on your computer. \n",
    "\n",
    "**Tips**: define two variables inizialized to 1 and halve/double them enough time to exceed the under/over-flow limits  "
   ]
  },
  {
   "cell_type": "code",
   "execution_count": 8,
   "metadata": {},
   "outputs": [
    {
     "name": "stdout",
     "output_type": "stream",
     "text": [
      "Underflow:  5.877471754111438e-39\n",
      "Overflow:  170141183460469231731687303715884105728\n"
     ]
    }
   ],
   "source": [
    "underflow = 1\n",
    "overflow = 1\n",
    "for i in range(127):\n",
    "    underflow = underflow/2\n",
    "    overflow = overflow*2\n",
    "print(\"Underflow: \", underflow)\n",
    "print(\"Overflow: \", overflow)\n"
   ]
  },
  {
   "cell_type": "markdown",
   "metadata": {},
   "source": [
    "4\\. Write a program to determine the machine precision\n",
    "\n",
    "**Tips**: define a new variable by adding a smaller and smaller value (proceeding similarly to prob. 2) to an original variable and check the point where the two are the same "
   ]
  },
  {
   "cell_type": "code",
   "execution_count": 17,
   "metadata": {},
   "outputs": [
    {
     "name": "stdout",
     "output_type": "stream",
     "text": [
      "1.1102230246251565e-16\n",
      "1.0\n"
     ]
    }
   ],
   "source": [
    "x = 1\n",
    "for i  in range(53):\n",
    "    x = x/2\n",
    "    var = 1 + x\n",
    "print(x)\n",
    "print(var)\n",
    "    "
   ]
  },
  {
   "cell_type": "markdown",
   "metadata": {},
   "source": [
    "5\\. Write a function that takes in input three parameters $a$, $b$ and $c$ and prints out the two solutions to the quadratic equation $ax^2+bx+c=0$ using the standard formula:\n",
    "$$\n",
    "x=\\frac{-b\\pm\\sqrt{b^2-4ac}}{2a}\n",
    "$$\n",
    "\n",
    "(a) use the program to compute the solution for $a=0.001$, $b=1000$ and $c=0.001$\n",
    "\n",
    "(b) re-express the standard solution formula by multiplying top and bottom by $-b\\mp\\sqrt{b^2-4ac}$ and again find the solution for $a=0.001$, $b=1000$ and $c=0.001$. How does it compare with what previously obtained? Why?\n",
    "\n",
    "(c) write a function that compute the roots of a quadratic equation accurately in all cases"
   ]
  },
  {
   "cell_type": "code",
   "execution_count": 28,
   "metadata": {},
   "outputs": [
    {
     "name": "stdout",
     "output_type": "stream",
     "text": [
      "The solution are (-999999.999999+0j) and (-9.999894245993346e-07+0j)\n",
      "None\n",
      "The solution are (-999999.999999+0j) and (-9.999894245993346e-07+0j)\n",
      "None\n"
     ]
    }
   ],
   "source": [
    "import cmath\n",
    "#Answer A\n",
    "def quadratic_eq(a, b, c):\n",
    "    d = (b**2) - (4*a*c)\n",
    "    sol1 = (-b-cmath.sqrt(d))/(2*a)\n",
    "    sol2 = (-b+cmath.sqrt(d))/(2*a)\n",
    "    return print('The solution are {0} and {1}'.format(sol1,sol2))\n",
    "a = 0.001\n",
    "b = 1000\n",
    "c = 0.001\n",
    "print(quadratic_eq(a, b, c))\n",
    "\n",
    "#Answer B\n",
    "def re_quadratic_eq(a, b, c):\n",
    "    sol1 = (-b-cmath.sqrt(d))\n",
    "    sol2 = (-b+cmath.sqrt(d))\n",
    "    return print('The solution are {0} and {1}'.format(sol1,sol2))\n",
    "a = 0.001\n",
    "b = 1000\n",
    "c = 0.001\n",
    "print(quadratic_eq(a, b, c))"
   ]
  },
  {
   "cell_type": "markdown",
   "metadata": {},
   "source": [
    "6\\. Write a program that implements the function $f(x)=x(x−1)$\n",
    "\n",
    "(a) Calculate the derivative of the function at the point $x = 1$ using the derivative definition:\n",
    "\n",
    "$$\n",
    "\\frac{{\\rm d}f}{{\\rm d}x} = \\lim_{\\delta\\to0} \\frac{f(x+\\delta)-f(x)}{\\delta}\n",
    "$$\n",
    "\n",
    "with $\\delta = 10^{−2}$. Calculate the true value of the same derivative analytically and compare with the answer your program gives. The two will not agree perfectly. Why not?\n",
    "\n",
    "(b) Repeat the calculation for $\\delta = 10^{−4}, 10^{−6}, 10^{−8}, 10^{−10}, 10^{−12}$ and $10^{−14}$. How does the accuracy scales with $\\delta$?"
   ]
  },
  {
   "cell_type": "code",
   "execution_count": 30,
   "metadata": {},
   "outputs": [
    {
     "name": "stdout",
     "output_type": "stream",
     "text": [
      "Result for 10^-2 :  2.0*a - 0.99\n",
      "Result for 10^-4 :  3.99999999999956*a - 2.9798999999997\n",
      "Result for 10^-6 :  3.99999999967093*a - 2.97999900000789\n",
      "Result for 10^-8 :  3.99999997569012*a - 2.98000000231724\n",
      "Result for 10^-10 :  4.00000033096148*a - 2.98000069065552\n",
      "Result for 10^-12 :  4.00035560232936*a - 2.98006064269885\n",
      "Result for 10^-14 :  3.99680288865056*a - 2.97539770599542\n"
     ]
    }
   ],
   "source": [
    "# !pip install sympy\n",
    "#A\n",
    "import sympy as sp\n",
    "f=sp.Function('f')\n",
    "a,h,x=sp.symbols('a,h,x')\n",
    "def f(x):\n",
    "    return x*(x-1)\n",
    "a = sp.limit((f(a+h)-f(a))/h,h,10**-2)\n",
    "print(\"Result for 10^-2 : \", a)\n",
    "#B\n",
    "def f(x):\n",
    "    return x*(x-1)\n",
    "b = sp.limit((f(a+h)-f(a))/h,h,10**-4)\n",
    "print(\"Result for 10^-4 : \", b)\n",
    "\n",
    "def f(x):\n",
    "    return x*(x-1)\n",
    "c = sp.limit((f(a+h)-f(a))/h,h,10**-6)\n",
    "print(\"Result for 10^-6 : \", c)\n",
    "\n",
    "def f(x):\n",
    "    return x*(x-1)\n",
    "d = sp.limit((f(a+h)-f(a))/h,h,10**-8)\n",
    "print(\"Result for 10^-8 : \",d)\n",
    "\n",
    "def f(x):\n",
    "    return x*(x-1)\n",
    "e = sp.limit((f(a+h)-f(a))/h,h,10**-10)\n",
    "print(\"Result for 10^-10 : \",e)\n",
    "\n",
    "def f(x):\n",
    "    return x*(x-1)\n",
    "f = sp.limit((f(a+h)-f(a))/h,h,10**-12)\n",
    "print(\"Result for 10^-12 : \",f)\n",
    "\n",
    "def f(x):\n",
    "    return x*(x-1)\n",
    "g = sp.limit((f(a+h)-f(a))/h,h,10**-14)\n",
    "print(\"Result for 10^-14 : \",g)"
   ]
  },
  {
   "cell_type": "markdown",
   "metadata": {},
   "source": [
    "7\\. Consider the integral of the semicircle of radius 1:\n",
    "$$\n",
    "I=\\int_{-1}^{1} \\sqrt(1-x^2) {\\rm d}x\n",
    "$$\n",
    "which it's known to be $I=\\frac{\\pi}{2}=1.57079632679...$.\n",
    "Alternatively we can use the Riemann definition of the integral:\n",
    "$$\n",
    "I=\\lim_{N\\to\\infty} \\sum_{k=1}^{N} h y_k \n",
    "$$\n",
    "\n",
    "with $h=2/N$ the width of each of the $N$ slices the domain is divided into and where\n",
    "$y_k$ is the value of the function at the $k-$th slice.\n",
    "\n",
    "(a) Write a programe to compute the integral with $N=100$. How does the result compares to the true value?\n",
    "\n",
    "(b) How much can $N$ be increased if the computation needs to be run in less than a second? What is the gain in running it for 1 minute? \n"
   ]
  },
  {
   "cell_type": "code",
   "execution_count": 33,
   "metadata": {},
   "outputs": [
    {
     "name": "stdout",
     "output_type": "stream",
     "text": [
      "I :  (0.7853981633974481, 8.833911380179416e-11)\n"
     ]
    }
   ],
   "source": [
    "from scipy.integrate import quad\n",
    "def integrand(x):\n",
    "    return sqrt(1-x**2)\n",
    "I = quad(integrand, 0, 1)\n",
    "print(\"I : \", I)"
   ]
  },
  {
   "cell_type": "code",
   "execution_count": null,
   "metadata": {},
   "outputs": [],
   "source": []
  }
 ],
 "metadata": {
  "kernelspec": {
   "display_name": "Python 3",
   "language": "python",
   "name": "python3"
  },
  "language_info": {
   "codemirror_mode": {
    "name": "ipython",
    "version": 3
   },
   "file_extension": ".py",
   "mimetype": "text/x-python",
   "name": "python",
   "nbconvert_exporter": "python",
   "pygments_lexer": "ipython3",
   "version": "3.7.3"
  }
 },
 "nbformat": 4,
 "nbformat_minor": 2
}
